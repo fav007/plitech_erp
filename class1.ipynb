{
 "cells": [
  {
   "cell_type": "code",
   "execution_count": 59,
   "metadata": {},
   "outputs": [],
   "source": [
    "class Facture:\n",
    "    def __init__(self,num,name) -> None:\n",
    "        self.num = num\n",
    "        self.name = name\n",
    "        self.lignefacture = []\n",
    "    def ajout_ligne(self,u):\n",
    "        self.lignefacture.append(u)\n",
    "    @property\n",
    "    def total(self):\n",
    "        return sum(u.quantite * u.prix_unitaire for u in self.lignefacture)\n",
    "            \n",
    "    def __repr__(self) -> str:\n",
    "    \n",
    "        return f\"Facture N°{self.num}  au nom de {self.name}\"\n",
    "        \n",
    "\n",
    "class LigneFacture:\n",
    "    def __init__(self,quantite,designation,prix_unitaire) -> None:\n",
    "        self.quantite = quantite\n",
    "        self.designation = designation\n",
    "        self.prix_unitaire = prix_unitaire\n",
    "    \n",
    "    def __repr__(self) -> str:\n",
    "        return f\"{self.quantite} {self.designation} {self.prix_unitaire}\""
   ]
  },
  {
   "cell_type": "code",
   "execution_count": 60,
   "metadata": {},
   "outputs": [],
   "source": [
    "a = LigneFacture(3,\"persienne\",5000)\n",
    "c = LigneFacture(4,'persienne',3000)"
   ]
  },
  {
   "cell_type": "code",
   "execution_count": 61,
   "metadata": {},
   "outputs": [],
   "source": [
    "b = Facture(45,'Rabe')"
   ]
  },
  {
   "cell_type": "code",
   "execution_count": 62,
   "metadata": {},
   "outputs": [],
   "source": [
    "b.ajout_ligne(a)"
   ]
  },
  {
   "cell_type": "code",
   "execution_count": 63,
   "metadata": {},
   "outputs": [],
   "source": [
    "b.ajout_ligne(c)"
   ]
  },
  {
   "cell_type": "code",
   "execution_count": 69,
   "metadata": {},
   "outputs": [
    {
     "data": {
      "text/plain": [
       "27000"
      ]
     },
     "execution_count": 69,
     "metadata": {},
     "output_type": "execute_result"
    }
   ],
   "source": [
    "b.total"
   ]
  },
  {
   "cell_type": "code",
   "execution_count": 67,
   "metadata": {},
   "outputs": [
    {
     "data": {
      "text/plain": [
       "27000"
      ]
     },
     "execution_count": 67,
     "metadata": {},
     "output_type": "execute_result"
    }
   ],
   "source": [
    "b.total"
   ]
  },
  {
   "cell_type": "code",
   "execution_count": 66,
   "metadata": {},
   "outputs": [
    {
     "data": {
      "text/plain": [
       "27000"
      ]
     },
     "execution_count": 66,
     "metadata": {},
     "output_type": "execute_result"
    }
   ],
   "source": [
    "b.total"
   ]
  },
  {
   "cell_type": "code",
   "execution_count": null,
   "metadata": {},
   "outputs": [],
   "source": []
  },
  {
   "cell_type": "code",
   "execution_count": null,
   "metadata": {},
   "outputs": [],
   "source": []
  }
 ],
 "metadata": {
  "kernelspec": {
   "display_name": "dashboard",
   "language": "python",
   "name": "python3"
  },
  "language_info": {
   "codemirror_mode": {
    "name": "ipython",
    "version": 3
   },
   "file_extension": ".py",
   "mimetype": "text/x-python",
   "name": "python",
   "nbconvert_exporter": "python",
   "pygments_lexer": "ipython3",
   "version": "3.11.0"
  },
  "orig_nbformat": 4
 },
 "nbformat": 4,
 "nbformat_minor": 2
}
